{
 "cells": [
  {
   "cell_type": "markdown",
   "id": "f56688fd",
   "metadata": {},
   "source": [
    "# 01. Importing libraries"
   ]
  },
  {
   "cell_type": "code",
   "execution_count": 1,
   "id": "609d2799",
   "metadata": {},
   "outputs": [],
   "source": [
    "# import libraries\n",
    "import pandas as pd\n",
    "import numpy as np\n",
    "import os\n"
   ]
  },
  {
   "cell_type": "markdown",
   "id": "e10a7eea",
   "metadata": {},
   "source": [
    "# 02. Python Data Types"
   ]
  },
  {
   "cell_type": "markdown",
   "id": "b2a7724d",
   "metadata": {},
   "source": [
    "# Step 7. Code 3 different ways of reaching a result of 100 by adding or subtracting numeric variables."
   ]
  },
  {
   "cell_type": "code",
   "execution_count": 61,
   "id": "6568ec9f",
   "metadata": {},
   "outputs": [],
   "source": [
    "x = 100"
   ]
  },
  {
   "cell_type": "code",
   "execution_count": 62,
   "id": "a7e600dc",
   "metadata": {},
   "outputs": [
    {
     "name": "stdout",
     "output_type": "stream",
     "text": [
      "100\n"
     ]
    }
   ],
   "source": [
    "print(x)"
   ]
  },
  {
   "cell_type": "code",
   "execution_count": 97,
   "id": "ee7fb633",
   "metadata": {},
   "outputs": [],
   "source": [
    "y = 200"
   ]
  },
  {
   "cell_type": "code",
   "execution_count": 98,
   "id": "726c527f",
   "metadata": {},
   "outputs": [
    {
     "name": "stdout",
     "output_type": "stream",
     "text": [
      "200\n"
     ]
    }
   ],
   "source": [
    "print(y)"
   ]
  },
  {
   "cell_type": "code",
   "execution_count": 99,
   "id": "d5dfad30",
   "metadata": {},
   "outputs": [],
   "source": [
    "z = 50"
   ]
  },
  {
   "cell_type": "code",
   "execution_count": 100,
   "id": "0ef69b46",
   "metadata": {},
   "outputs": [
    {
     "name": "stdout",
     "output_type": "stream",
     "text": [
      "50\n"
     ]
    }
   ],
   "source": [
    "print(z)"
   ]
  },
  {
   "cell_type": "code",
   "execution_count": 69,
   "id": "dd00b749",
   "metadata": {},
   "outputs": [],
   "source": [
    "s = 0"
   ]
  },
  {
   "cell_type": "code",
   "execution_count": 70,
   "id": "b9d1c5f6",
   "metadata": {},
   "outputs": [
    {
     "data": {
      "text/plain": [
       "100"
      ]
     },
     "execution_count": 70,
     "metadata": {},
     "output_type": "execute_result"
    }
   ],
   "source": [
    "x - s"
   ]
  },
  {
   "cell_type": "code",
   "execution_count": 101,
   "id": "00ece6fb",
   "metadata": {},
   "outputs": [
    {
     "data": {
      "text/plain": [
       "100"
      ]
     },
     "execution_count": 101,
     "metadata": {},
     "output_type": "execute_result"
    }
   ],
   "source": [
    "x - s"
   ]
  },
  {
   "cell_type": "code",
   "execution_count": 102,
   "id": "ba8f57e4",
   "metadata": {},
   "outputs": [
    {
     "data": {
      "text/plain": [
       "100"
      ]
     },
     "execution_count": 102,
     "metadata": {},
     "output_type": "execute_result"
    }
   ],
   "source": [
    "y - x"
   ]
  },
  {
   "cell_type": "code",
   "execution_count": 104,
   "id": "74100fd5",
   "metadata": {},
   "outputs": [
    {
     "data": {
      "text/plain": [
       "100"
      ]
     },
     "execution_count": 104,
     "metadata": {},
     "output_type": "execute_result"
    }
   ],
   "source": [
    "z + z"
   ]
  },
  {
   "cell_type": "markdown",
   "id": "d8f530d1",
   "metadata": {},
   "source": [
    "# Step 8. Code 2 floating-point variables and divide them by each other."
   ]
  },
  {
   "cell_type": "code",
   "execution_count": 71,
   "id": "ca3cfd7a",
   "metadata": {},
   "outputs": [],
   "source": [
    "a = 4.44"
   ]
  },
  {
   "cell_type": "code",
   "execution_count": 72,
   "id": "744cfa02",
   "metadata": {},
   "outputs": [
    {
     "name": "stdout",
     "output_type": "stream",
     "text": [
      "4.44\n"
     ]
    }
   ],
   "source": [
    "print(a)"
   ]
  },
  {
   "cell_type": "code",
   "execution_count": 73,
   "id": "d5994e2f",
   "metadata": {},
   "outputs": [],
   "source": [
    "b = 7.77"
   ]
  },
  {
   "cell_type": "code",
   "execution_count": 74,
   "id": "4d93ad22",
   "metadata": {},
   "outputs": [
    {
     "name": "stdout",
     "output_type": "stream",
     "text": [
      "7.77\n"
     ]
    }
   ],
   "source": [
    "print(b)"
   ]
  },
  {
   "cell_type": "code",
   "execution_count": 76,
   "id": "6b3f1b1a",
   "metadata": {},
   "outputs": [
    {
     "data": {
      "text/plain": [
       "0.5714285714285715"
      ]
     },
     "execution_count": 76,
     "metadata": {},
     "output_type": "execute_result"
    }
   ],
   "source": [
    "a / b"
   ]
  },
  {
   "cell_type": "markdown",
   "id": "b48b52fa",
   "metadata": {},
   "source": [
    "# Step 9. Construct a short word made of separate strings (you’ll need to concatenate some strings!)."
   ]
  },
  {
   "cell_type": "code",
   "execution_count": 77,
   "id": "92a3b552",
   "metadata": {},
   "outputs": [],
   "source": [
    "c = 'Cou'"
   ]
  },
  {
   "cell_type": "code",
   "execution_count": 78,
   "id": "0c1a31a6",
   "metadata": {},
   "outputs": [],
   "source": [
    "d = 'rage'"
   ]
  },
  {
   "cell_type": "code",
   "execution_count": 79,
   "id": "d23bc3ac",
   "metadata": {},
   "outputs": [
    {
     "data": {
      "text/plain": [
       "'Courage'"
      ]
     },
     "execution_count": 79,
     "metadata": {},
     "output_type": "execute_result"
    }
   ],
   "source": [
    "c + d"
   ]
  },
  {
   "cell_type": "markdown",
   "id": "7c5bda1d",
   "metadata": {},
   "source": [
    "# Step 10. Construct 2 short sentences made of separate strings."
   ]
  },
  {
   "cell_type": "code",
   "execution_count": 94,
   "id": "8178b035",
   "metadata": {},
   "outputs": [],
   "source": [
    "e = 'The journey will not be easy.'"
   ]
  },
  {
   "cell_type": "code",
   "execution_count": 95,
   "id": "e307bfe6",
   "metadata": {},
   "outputs": [],
   "source": [
    "f = ' There will be many twists and turns.'"
   ]
  },
  {
   "cell_type": "code",
   "execution_count": 96,
   "id": "d0e4cb9e",
   "metadata": {},
   "outputs": [
    {
     "data": {
      "text/plain": [
       "'The journey will not be easy. There will be many twists and turns.'"
      ]
     },
     "execution_count": 96,
     "metadata": {},
     "output_type": "execute_result"
    }
   ],
   "source": [
    "e + f"
   ]
  },
  {
   "cell_type": "code",
   "execution_count": null,
   "id": "d6c80893",
   "metadata": {},
   "outputs": [],
   "source": []
  }
 ],
 "metadata": {
  "kernelspec": {
   "display_name": "Python 3 (ipykernel)",
   "language": "python",
   "name": "python3"
  },
  "language_info": {
   "codemirror_mode": {
    "name": "ipython",
    "version": 3
   },
   "file_extension": ".py",
   "mimetype": "text/x-python",
   "name": "python",
   "nbconvert_exporter": "python",
   "pygments_lexer": "ipython3",
   "version": "3.11.4"
  }
 },
 "nbformat": 4,
 "nbformat_minor": 5
}
